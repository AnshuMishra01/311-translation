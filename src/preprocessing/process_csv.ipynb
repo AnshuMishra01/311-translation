{
 "cells": [
  {
   "cell_type": "code",
   "execution_count": 2,
   "metadata": {},
   "outputs": [],
   "source": [
    "import pandas as pd"
   ]
  },
  {
   "cell_type": "code",
   "execution_count": 3,
   "metadata": {},
   "outputs": [],
   "source": [
    "df = pd.read_csv('../../data/translated/transformer.csv')"
   ]
  },
  {
   "cell_type": "code",
   "execution_count": 4,
   "metadata": {},
   "outputs": [
    {
     "data": {
      "text/plain": [
       "100"
      ]
     },
     "execution_count": 4,
     "metadata": {},
     "output_type": "execute_result"
    }
   ],
   "source": [
    "len(df)"
   ]
  },
  {
   "cell_type": "code",
   "execution_count": 4,
   "metadata": {},
   "outputs": [],
   "source": [
    "df.drop_duplicates(inplace=True)"
   ]
  },
  {
   "cell_type": "code",
   "execution_count": 6,
   "metadata": {},
   "outputs": [
    {
     "data": {
      "text/html": [
       "<div>\n",
       "<style scoped>\n",
       "    .dataframe tbody tr th:only-of-type {\n",
       "        vertical-align: middle;\n",
       "    }\n",
       "\n",
       "    .dataframe tbody tr th {\n",
       "        vertical-align: top;\n",
       "    }\n",
       "\n",
       "    .dataframe thead th {\n",
       "        text-align: right;\n",
       "    }\n",
       "</style>\n",
       "<table border=\"1\" class=\"dataframe\">\n",
       "  <thead>\n",
       "    <tr style=\"text-align: right;\">\n",
       "      <th></th>\n",
       "      <th>service_request_id</th>\n",
       "      <th>grievance</th>\n",
       "      <th>translated</th>\n",
       "    </tr>\n",
       "  </thead>\n",
       "  <tbody>\n",
       "    <tr>\n",
       "      <th>0</th>\n",
       "      <td>101004372086</td>\n",
       "      <td>Overgrown weeds</td>\n",
       "      <td>[start] [UNK] a la malas malas malas malas mal...</td>\n",
       "    </tr>\n",
       "    <tr>\n",
       "      <th>1</th>\n",
       "      <td>101004337018</td>\n",
       "      <td>Broken sprinkler head</td>\n",
       "      <td>[start] se rompió la cabeza [end]</td>\n",
       "    </tr>\n",
       "    <tr>\n",
       "      <th>2</th>\n",
       "      <td>101004359338</td>\n",
       "      <td>Broken glass bottles, unsafe area as a result</td>\n",
       "      <td>[start] el los que [UNK] de agua pasa en la qu...</td>\n",
       "    </tr>\n",
       "    <tr>\n",
       "      <th>3</th>\n",
       "      <td>101004362703</td>\n",
       "      <td>Big rats coming out of this yard all the time.</td>\n",
       "      <td>[start] las cosas más grande de este día [end]</td>\n",
       "    </tr>\n",
       "    <tr>\n",
       "      <th>4</th>\n",
       "      <td>101004371499</td>\n",
       "      <td>Trash on sidewalk</td>\n",
       "      <td>[start] el lugar de la lo [UNK] [end]</td>\n",
       "    </tr>\n",
       "  </tbody>\n",
       "</table>\n",
       "</div>"
      ],
      "text/plain": [
       "   service_request_id                                       grievance  \\\n",
       "0        101004372086                                 Overgrown weeds   \n",
       "1        101004337018                           Broken sprinkler head   \n",
       "2        101004359338   Broken glass bottles, unsafe area as a result   \n",
       "3        101004362703  Big rats coming out of this yard all the time.   \n",
       "4        101004371499                               Trash on sidewalk   \n",
       "\n",
       "                                          translated  \n",
       "0  [start] [UNK] a la malas malas malas malas mal...  \n",
       "1                  [start] se rompió la cabeza [end]  \n",
       "2  [start] el los que [UNK] de agua pasa en la qu...  \n",
       "3     [start] las cosas más grande de este día [end]  \n",
       "4              [start] el lugar de la lo [UNK] [end]  "
      ]
     },
     "execution_count": 6,
     "metadata": {},
     "output_type": "execute_result"
    }
   ],
   "source": [
    "df = df.iloc[: , 1:]\n",
    "df.head()\n"
   ]
  },
  {
   "cell_type": "code",
   "execution_count": 6,
   "metadata": {},
   "outputs": [
    {
     "data": {
      "text/plain": [
       "3710"
      ]
     },
     "execution_count": 6,
     "metadata": {},
     "output_type": "execute_result"
    }
   ],
   "source": [
    "len(df)"
   ]
  },
  {
   "cell_type": "code",
   "execution_count": 12,
   "metadata": {},
   "outputs": [
    {
     "data": {
      "text/html": [
       "<div>\n",
       "<style scoped>\n",
       "    .dataframe tbody tr th:only-of-type {\n",
       "        vertical-align: middle;\n",
       "    }\n",
       "\n",
       "    .dataframe tbody tr th {\n",
       "        vertical-align: top;\n",
       "    }\n",
       "\n",
       "    .dataframe thead th {\n",
       "        text-align: right;\n",
       "    }\n",
       "</style>\n",
       "<table border=\"1\" class=\"dataframe\">\n",
       "  <thead>\n",
       "    <tr style=\"text-align: right;\">\n",
       "      <th></th>\n",
       "      <th>service_request_id</th>\n",
       "      <th>grievance</th>\n",
       "    </tr>\n",
       "  </thead>\n",
       "  <tbody>\n",
       "    <tr>\n",
       "      <th>0</th>\n",
       "      <td>1.010044e+11</td>\n",
       "      <td>People are sitting on top of park tables and m...</td>\n",
       "    </tr>\n",
       "    <tr>\n",
       "      <th>1</th>\n",
       "      <td>1.010042e+11</td>\n",
       "      <td>Light out</td>\n",
       "    </tr>\n",
       "    <tr>\n",
       "      <th>2</th>\n",
       "      <td>1.010044e+11</td>\n",
       "      <td>Across from 112 chittick road. 2 grills dumped...</td>\n",
       "    </tr>\n",
       "    <tr>\n",
       "      <th>3</th>\n",
       "      <td>1.010044e+11</td>\n",
       "      <td>Property conditions interfere with sidewalk pa...</td>\n",
       "    </tr>\n",
       "    <tr>\n",
       "      <th>4</th>\n",
       "      <td>1.010043e+11</td>\n",
       "      <td>Grass at Hemenway on the hill needs to be mowe...</td>\n",
       "    </tr>\n",
       "    <tr>\n",
       "      <th>...</th>\n",
       "      <td>...</td>\n",
       "      <td>...</td>\n",
       "    </tr>\n",
       "    <tr>\n",
       "      <th>1404</th>\n",
       "      <td>1.010044e+11</td>\n",
       "      <td>Trash litter squalor what more can I say</td>\n",
       "    </tr>\n",
       "    <tr>\n",
       "      <th>1583</th>\n",
       "      <td>1.010044e+11</td>\n",
       "      <td>Huge pothole in front of the school on Corey S...</td>\n",
       "    </tr>\n",
       "    <tr>\n",
       "      <th>1760</th>\n",
       "      <td>1.010044e+11</td>\n",
       "      <td>3 moving trucks on E Concord st between  Gilda...</td>\n",
       "    </tr>\n",
       "    <tr>\n",
       "      <th>1763</th>\n",
       "      <td>1.010044e+11</td>\n",
       "      <td>Trash bag for removal. No code violation found...</td>\n",
       "    </tr>\n",
       "    <tr>\n",
       "      <th>1939</th>\n",
       "      <td>NaN</td>\n",
       "      <td>NaN</td>\n",
       "    </tr>\n",
       "  </tbody>\n",
       "</table>\n",
       "<p>187 rows × 2 columns</p>\n",
       "</div>"
      ],
      "text/plain": [
       "      service_request_id                                          grievance\n",
       "0           1.010044e+11  People are sitting on top of park tables and m...\n",
       "1           1.010042e+11                                          Light out\n",
       "2           1.010044e+11  Across from 112 chittick road. 2 grills dumped...\n",
       "3           1.010044e+11  Property conditions interfere with sidewalk pa...\n",
       "4           1.010043e+11  Grass at Hemenway on the hill needs to be mowe...\n",
       "...                  ...                                                ...\n",
       "1404        1.010044e+11           Trash litter squalor what more can I say\n",
       "1583        1.010044e+11  Huge pothole in front of the school on Corey S...\n",
       "1760        1.010044e+11  3 moving trucks on E Concord st between  Gilda...\n",
       "1763        1.010044e+11  Trash bag for removal. No code violation found...\n",
       "1939                 NaN                                                NaN\n",
       "\n",
       "[187 rows x 2 columns]"
      ]
     },
     "execution_count": 12,
     "metadata": {},
     "output_type": "execute_result"
    }
   ],
   "source": [
    "df"
   ]
  },
  {
   "cell_type": "code",
   "execution_count": 7,
   "metadata": {},
   "outputs": [],
   "source": [
    "df.to_csv('../../data/translated/transformer.csv')"
   ]
  },
  {
   "cell_type": "code",
   "execution_count": null,
   "metadata": {},
   "outputs": [],
   "source": []
  }
 ],
 "metadata": {
  "kernelspec": {
   "display_name": "Python 3.10.5 64-bit",
   "language": "python",
   "name": "python3"
  },
  "language_info": {
   "codemirror_mode": {
    "name": "ipython",
    "version": 3
   },
   "file_extension": ".py",
   "mimetype": "text/x-python",
   "name": "python",
   "nbconvert_exporter": "python",
   "pygments_lexer": "ipython3",
   "version": "3.10.5"
  },
  "orig_nbformat": 4,
  "vscode": {
   "interpreter": {
    "hash": "e7370f93d1d0cde622a1f8e1c04877d8463912d04d973331ad4851f04de6915a"
   }
  }
 },
 "nbformat": 4,
 "nbformat_minor": 2
}
