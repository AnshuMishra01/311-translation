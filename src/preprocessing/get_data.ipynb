{
 "cells": [
  {
   "cell_type": "code",
   "execution_count": 6,
   "metadata": {},
   "outputs": [],
   "source": [
    "from time import time\n",
    "import requests\n",
    "import time\n",
    "import pandas as pd"
   ]
  },
  {
   "cell_type": "code",
   "execution_count": 7,
   "metadata": {},
   "outputs": [],
   "source": [
    "WAITING_TIME = 10 # seconds\n",
    "PAGE_SIZE = 200\n",
    "NUM_PAGES = 20\n",
    "BASE_URL = \"https://mayors24.cityofboston.gov/open311/v2/requests.json\" + \"?page_size=\" + str(PAGE_SIZE)"
   ]
  },
  {
   "cell_type": "code",
   "execution_count": 8,
   "metadata": {},
   "outputs": [],
   "source": [
    "data = requests.get(BASE_URL).json()\n",
    "service_ids = [issue['service_request_id'] for issue in data if 'description' in issue]\n",
    "grievances = [issue['description'] for issue in data if 'description' in issue]"
   ]
  },
  {
   "cell_type": "code",
   "execution_count": 9,
   "metadata": {},
   "outputs": [],
   "source": [
    "for i in range(1, NUM_PAGES):\n",
    "    time.sleep(WAITING_TIME)\n",
    "    new_url = BASE_URL + \"&page=\" + str(i)\n",
    "    additional_data = requests.get(new_url).json() \n",
    "    for issue in additional_data:\n",
    "        if 'description' in issue.keys():\n",
    "            service_ids.append(issue['service_request_id'])\n",
    "            grievances.append(issue['description'])\n",
    "        else: # if the issue has no description, this is when it is only an image\n",
    "            pass"
   ]
  },
  {
   "cell_type": "code",
   "execution_count": null,
   "metadata": {},
   "outputs": [],
   "source": [
    "df = pd.DataFrame(list(zip(service_ids, grievances)), columns=['service_request_id', 'grievance'])\n",
    "df.to_csv('../../data/grievances.csv')"
   ]
  }
 ],
 "metadata": {
  "kernelspec": {
   "display_name": "Python 3.10.5 64-bit",
   "language": "python",
   "name": "python3"
  },
  "language_info": {
   "codemirror_mode": {
    "name": "ipython",
    "version": 3
   },
   "file_extension": ".py",
   "mimetype": "text/x-python",
   "name": "python",
   "nbconvert_exporter": "python",
   "pygments_lexer": "ipython3",
   "version": "3.10.5"
  },
  "orig_nbformat": 4,
  "vscode": {
   "interpreter": {
    "hash": "e7370f93d1d0cde622a1f8e1c04877d8463912d04d973331ad4851f04de6915a"
   }
  }
 },
 "nbformat": 4,
 "nbformat_minor": 2
}
