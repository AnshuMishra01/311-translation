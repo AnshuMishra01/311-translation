{
 "cells": [
  {
   "cell_type": "code",
   "execution_count": 1,
   "metadata": {},
   "outputs": [],
   "source": [
    "# %pip install googletrans==4.0.0-rc1 # only this version works for some reason\n",
    "from googletrans import Translator\n",
    "import pandas as pd"
   ]
  },
  {
   "cell_type": "code",
   "execution_count": 2,
   "metadata": {},
   "outputs": [],
   "source": [
    "translator = Translator()"
   ]
  },
  {
   "cell_type": "code",
   "execution_count": 10,
   "metadata": {},
   "outputs": [
    {
     "data": {
      "text/html": [
       "<div>\n",
       "<style scoped>\n",
       "    .dataframe tbody tr th:only-of-type {\n",
       "        vertical-align: middle;\n",
       "    }\n",
       "\n",
       "    .dataframe tbody tr th {\n",
       "        vertical-align: top;\n",
       "    }\n",
       "\n",
       "    .dataframe thead th {\n",
       "        text-align: right;\n",
       "    }\n",
       "</style>\n",
       "<table border=\"1\" class=\"dataframe\">\n",
       "  <thead>\n",
       "    <tr style=\"text-align: right;\">\n",
       "      <th></th>\n",
       "      <th>service_request_id</th>\n",
       "      <th>grievance</th>\n",
       "    </tr>\n",
       "  </thead>\n",
       "  <tbody>\n",
       "    <tr>\n",
       "      <th>0</th>\n",
       "      <td>101004372086</td>\n",
       "      <td>Overgrown weeds</td>\n",
       "    </tr>\n",
       "    <tr>\n",
       "      <th>1</th>\n",
       "      <td>101004337018</td>\n",
       "      <td>Broken sprinkler head</td>\n",
       "    </tr>\n",
       "    <tr>\n",
       "      <th>2</th>\n",
       "      <td>101004359338</td>\n",
       "      <td>Broken glass bottles, unsafe area as a result</td>\n",
       "    </tr>\n",
       "    <tr>\n",
       "      <th>3</th>\n",
       "      <td>101004362703</td>\n",
       "      <td>Big rats coming out of this yard all the time.</td>\n",
       "    </tr>\n",
       "    <tr>\n",
       "      <th>4</th>\n",
       "      <td>101004371499</td>\n",
       "      <td>Trash on sidewalk</td>\n",
       "    </tr>\n",
       "  </tbody>\n",
       "</table>\n",
       "</div>"
      ],
      "text/plain": [
       "   service_request_id                                       grievance\n",
       "0        101004372086                                 Overgrown weeds\n",
       "1        101004337018                           Broken sprinkler head\n",
       "2        101004359338   Broken glass bottles, unsafe area as a result\n",
       "3        101004362703  Big rats coming out of this yard all the time.\n",
       "4        101004371499                               Trash on sidewalk"
      ]
     },
     "execution_count": 10,
     "metadata": {},
     "output_type": "execute_result"
    }
   ],
   "source": [
    "df = pd.read_csv('../../data/train.csv')\n",
    "df = df.iloc[: , 1:]\n",
    "df.head()"
   ]
  },
  {
   "cell_type": "code",
   "execution_count": 11,
   "metadata": {},
   "outputs": [],
   "source": [
    "df['translated'] = df['grievance'].apply(lambda x: translator.translate(x, src='en', dest='es').text)"
   ]
  },
  {
   "cell_type": "code",
   "execution_count": 12,
   "metadata": {},
   "outputs": [
    {
     "data": {
      "text/html": [
       "<div>\n",
       "<style scoped>\n",
       "    .dataframe tbody tr th:only-of-type {\n",
       "        vertical-align: middle;\n",
       "    }\n",
       "\n",
       "    .dataframe tbody tr th {\n",
       "        vertical-align: top;\n",
       "    }\n",
       "\n",
       "    .dataframe thead th {\n",
       "        text-align: right;\n",
       "    }\n",
       "</style>\n",
       "<table border=\"1\" class=\"dataframe\">\n",
       "  <thead>\n",
       "    <tr style=\"text-align: right;\">\n",
       "      <th></th>\n",
       "      <th>service_request_id</th>\n",
       "      <th>grievance</th>\n",
       "      <th>translated</th>\n",
       "    </tr>\n",
       "  </thead>\n",
       "  <tbody>\n",
       "    <tr>\n",
       "      <th>0</th>\n",
       "      <td>101004372086</td>\n",
       "      <td>Overgrown weeds</td>\n",
       "      <td>Malezas cubiertas de maleza</td>\n",
       "    </tr>\n",
       "    <tr>\n",
       "      <th>1</th>\n",
       "      <td>101004337018</td>\n",
       "      <td>Broken sprinkler head</td>\n",
       "      <td>Cabeza rociadora rota</td>\n",
       "    </tr>\n",
       "    <tr>\n",
       "      <th>2</th>\n",
       "      <td>101004359338</td>\n",
       "      <td>Broken glass bottles, unsafe area as a result</td>\n",
       "      <td>Botellas de vidrio rotas, área insegura como r...</td>\n",
       "    </tr>\n",
       "    <tr>\n",
       "      <th>3</th>\n",
       "      <td>101004362703</td>\n",
       "      <td>Big rats coming out of this yard all the time.</td>\n",
       "      <td>Grandes ratas salen de este patio todo el tiempo.</td>\n",
       "    </tr>\n",
       "    <tr>\n",
       "      <th>4</th>\n",
       "      <td>101004371499</td>\n",
       "      <td>Trash on sidewalk</td>\n",
       "      <td>Basura en la acera</td>\n",
       "    </tr>\n",
       "  </tbody>\n",
       "</table>\n",
       "</div>"
      ],
      "text/plain": [
       "   service_request_id                                       grievance  \\\n",
       "0        101004372086                                 Overgrown weeds   \n",
       "1        101004337018                           Broken sprinkler head   \n",
       "2        101004359338   Broken glass bottles, unsafe area as a result   \n",
       "3        101004362703  Big rats coming out of this yard all the time.   \n",
       "4        101004371499                               Trash on sidewalk   \n",
       "\n",
       "                                          translated  \n",
       "0                        Malezas cubiertas de maleza  \n",
       "1                              Cabeza rociadora rota  \n",
       "2  Botellas de vidrio rotas, área insegura como r...  \n",
       "3  Grandes ratas salen de este patio todo el tiempo.  \n",
       "4                                 Basura en la acera  "
      ]
     },
     "execution_count": 12,
     "metadata": {},
     "output_type": "execute_result"
    }
   ],
   "source": [
    "df.head()"
   ]
  },
  {
   "cell_type": "code",
   "execution_count": 14,
   "metadata": {},
   "outputs": [],
   "source": [
    "df.to_csv('../../data/translated/google_translate.csv')"
   ]
  }
 ],
 "metadata": {
  "kernelspec": {
   "display_name": "Python 3.10.5 64-bit",
   "language": "python",
   "name": "python3"
  },
  "language_info": {
   "codemirror_mode": {
    "name": "ipython",
    "version": 3
   },
   "file_extension": ".py",
   "mimetype": "text/x-python",
   "name": "python",
   "nbconvert_exporter": "python",
   "pygments_lexer": "ipython3",
   "version": "3.10.5"
  },
  "orig_nbformat": 4,
  "vscode": {
   "interpreter": {
    "hash": "e7370f93d1d0cde622a1f8e1c04877d8463912d04d973331ad4851f04de6915a"
   }
  }
 },
 "nbformat": 4,
 "nbformat_minor": 2
}
